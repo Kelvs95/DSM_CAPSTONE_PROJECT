{
  "cells": [
    {
      "cell_type": "markdown",
      "metadata": {
        "id": "view-in-github",
        "colab_type": "text"
      },
      "source": [
        "<a href=\"https://colab.research.google.com/github/Kelvs95/DSM_CAPSTONE_PROJECT/blob/main/Capstone_1.ipynb\" target=\"_parent\"><img src=\"https://colab.research.google.com/assets/colab-badge.svg\" alt=\"Open In Colab\"/></a>"
      ]
    },
    {
      "cell_type": "markdown",
      "id": "b6fd607a",
      "metadata": {
        "id": "b6fd607a"
      },
      "source": [
        "# Project Title: YouTube Keyword Prediction for Trending Videos\n"
      ]
    },
    {
      "cell_type": "markdown",
      "id": "ef374a18",
      "metadata": {
        "id": "ef374a18"
      },
      "source": [
        "### Loading Nigeria's Current Trending YouTube Videos:\n",
        "\n",
        "###### Importing packages and reading data"
      ]
    },
    {
      "cell_type": "code",
      "execution_count": 1,
      "id": "97681af2",
      "metadata": {
        "id": "97681af2"
      },
      "outputs": [],
      "source": [
        "# importing important libararies\n",
        "import pandas as pd\n",
        "import numpy as np\n",
        "import matplotlib.pyplot as plt\n",
        "import seaborn as sns\n",
        "\n",
        "\n",
        "sns.set()"
      ]
    },
    {
      "cell_type": "code",
      "execution_count": 2,
      "id": "8b8e7db2",
      "metadata": {
        "id": "8b8e7db2"
      },
      "outputs": [],
      "source": [
        "#importing the NigeriaYoutube data \n",
        "Ng_data= pd.read_csv('NG_youtube_data.csv')"
      ]
    },
    {
      "cell_type": "code",
      "execution_count": 3,
      "id": "dcfb0665",
      "metadata": {
        "colab": {
          "base_uri": "https://localhost:8080/",
          "height": 499
        },
        "id": "dcfb0665",
        "outputId": "698b6002-3e1f-4fc4-b983-fa2aa97abe19"
      },
      "outputs": [
        {
          "output_type": "execute_result",
          "data": {
            "text/plain": [
              "                                               title      videoId  \\\n",
              "0  FAMILY MATTERS | Brodashaggi | Mr Ibu | Kiriku...  Zv1i-Cdn4Ik   \n",
              "1  Best Friends in the World: Senior Year | Episo...  BmCkK7W7j0Q   \n",
              "2  ROMOLA ALAKARA - Latest 2022 Yoruba Movie Star...  seZb9P7H6MU   \n",
              "3                                       Money & Love  pbATe_uZFTE   \n",
              "\n",
              "                  channelId           channelTitle  categoryId  \\\n",
              "0  UCG6orNVuXIICv9_ifH6msIA  official BRODA SHAGGI          23   \n",
              "1  UCCl71WmqkG8BjVuySOSCh_Q       Neptune3 Studios           1   \n",
              "2  UCK2-495cMvdhaMqXcLlgmcg             YORUBAPLAY          24   \n",
              "3  UC25DGtgYk5TwdksvtpeWYvA         Wizkid - Topic          10   \n",
              "\n",
              "  VideoCategoryDescription                                        Description  \\\n",
              "0                   Comedy  Please SUBSCRIBE to Broda Shaggi Official YouT...   \n",
              "1         Film & Animation  EP 13 \"The Protest\" - Olive leads a protest ag...   \n",
              "2            Entertainment  Find out where the story leads in this latest ...   \n",
              "3                    Music  Provided to YouTube by Starboy/RCA Records\\n\\n...   \n",
              "\n",
              "   viewCount  likeCount  dislikeCount  commentCount  favoriteCount  \\\n",
              "0     654033      30422             0          1474              0   \n",
              "1     299169      21292             0          2012              0   \n",
              "2     553886       5252             0           586              0   \n",
              "3     197492       8561             0             0              0   \n",
              "\n",
              "  publishedAt   duration  \n",
              "0  22/10/2022   PT10M18S  \n",
              "1  28/10/2022  PT1H5M22S  \n",
              "2  21/10/2022  PT1H9M27S  \n",
              "3  27/10/2022    PT3M12S  "
            ],
            "text/html": [
              "\n",
              "  <div id=\"df-70696ccf-8135-4111-89bb-342f97aa2ac1\">\n",
              "    <div class=\"colab-df-container\">\n",
              "      <div>\n",
              "<style scoped>\n",
              "    .dataframe tbody tr th:only-of-type {\n",
              "        vertical-align: middle;\n",
              "    }\n",
              "\n",
              "    .dataframe tbody tr th {\n",
              "        vertical-align: top;\n",
              "    }\n",
              "\n",
              "    .dataframe thead th {\n",
              "        text-align: right;\n",
              "    }\n",
              "</style>\n",
              "<table border=\"1\" class=\"dataframe\">\n",
              "  <thead>\n",
              "    <tr style=\"text-align: right;\">\n",
              "      <th></th>\n",
              "      <th>title</th>\n",
              "      <th>videoId</th>\n",
              "      <th>channelId</th>\n",
              "      <th>channelTitle</th>\n",
              "      <th>categoryId</th>\n",
              "      <th>VideoCategoryDescription</th>\n",
              "      <th>Description</th>\n",
              "      <th>viewCount</th>\n",
              "      <th>likeCount</th>\n",
              "      <th>dislikeCount</th>\n",
              "      <th>commentCount</th>\n",
              "      <th>favoriteCount</th>\n",
              "      <th>publishedAt</th>\n",
              "      <th>duration</th>\n",
              "    </tr>\n",
              "  </thead>\n",
              "  <tbody>\n",
              "    <tr>\n",
              "      <th>0</th>\n",
              "      <td>FAMILY MATTERS | Brodashaggi | Mr Ibu | Kiriku...</td>\n",
              "      <td>Zv1i-Cdn4Ik</td>\n",
              "      <td>UCG6orNVuXIICv9_ifH6msIA</td>\n",
              "      <td>official BRODA SHAGGI</td>\n",
              "      <td>23</td>\n",
              "      <td>Comedy</td>\n",
              "      <td>Please SUBSCRIBE to Broda Shaggi Official YouT...</td>\n",
              "      <td>654033</td>\n",
              "      <td>30422</td>\n",
              "      <td>0</td>\n",
              "      <td>1474</td>\n",
              "      <td>0</td>\n",
              "      <td>22/10/2022</td>\n",
              "      <td>PT10M18S</td>\n",
              "    </tr>\n",
              "    <tr>\n",
              "      <th>1</th>\n",
              "      <td>Best Friends in the World: Senior Year | Episo...</td>\n",
              "      <td>BmCkK7W7j0Q</td>\n",
              "      <td>UCCl71WmqkG8BjVuySOSCh_Q</td>\n",
              "      <td>Neptune3 Studios</td>\n",
              "      <td>1</td>\n",
              "      <td>Film &amp; Animation</td>\n",
              "      <td>EP 13 \"The Protest\" - Olive leads a protest ag...</td>\n",
              "      <td>299169</td>\n",
              "      <td>21292</td>\n",
              "      <td>0</td>\n",
              "      <td>2012</td>\n",
              "      <td>0</td>\n",
              "      <td>28/10/2022</td>\n",
              "      <td>PT1H5M22S</td>\n",
              "    </tr>\n",
              "    <tr>\n",
              "      <th>2</th>\n",
              "      <td>ROMOLA ALAKARA - Latest 2022 Yoruba Movie Star...</td>\n",
              "      <td>seZb9P7H6MU</td>\n",
              "      <td>UCK2-495cMvdhaMqXcLlgmcg</td>\n",
              "      <td>YORUBAPLAY</td>\n",
              "      <td>24</td>\n",
              "      <td>Entertainment</td>\n",
              "      <td>Find out where the story leads in this latest ...</td>\n",
              "      <td>553886</td>\n",
              "      <td>5252</td>\n",
              "      <td>0</td>\n",
              "      <td>586</td>\n",
              "      <td>0</td>\n",
              "      <td>21/10/2022</td>\n",
              "      <td>PT1H9M27S</td>\n",
              "    </tr>\n",
              "    <tr>\n",
              "      <th>3</th>\n",
              "      <td>Money &amp; Love</td>\n",
              "      <td>pbATe_uZFTE</td>\n",
              "      <td>UC25DGtgYk5TwdksvtpeWYvA</td>\n",
              "      <td>Wizkid - Topic</td>\n",
              "      <td>10</td>\n",
              "      <td>Music</td>\n",
              "      <td>Provided to YouTube by Starboy/RCA Records\\n\\n...</td>\n",
              "      <td>197492</td>\n",
              "      <td>8561</td>\n",
              "      <td>0</td>\n",
              "      <td>0</td>\n",
              "      <td>0</td>\n",
              "      <td>27/10/2022</td>\n",
              "      <td>PT3M12S</td>\n",
              "    </tr>\n",
              "  </tbody>\n",
              "</table>\n",
              "</div>\n",
              "      <button class=\"colab-df-convert\" onclick=\"convertToInteractive('df-70696ccf-8135-4111-89bb-342f97aa2ac1')\"\n",
              "              title=\"Convert this dataframe to an interactive table.\"\n",
              "              style=\"display:none;\">\n",
              "        \n",
              "  <svg xmlns=\"http://www.w3.org/2000/svg\" height=\"24px\"viewBox=\"0 0 24 24\"\n",
              "       width=\"24px\">\n",
              "    <path d=\"M0 0h24v24H0V0z\" fill=\"none\"/>\n",
              "    <path d=\"M18.56 5.44l.94 2.06.94-2.06 2.06-.94-2.06-.94-.94-2.06-.94 2.06-2.06.94zm-11 1L8.5 8.5l.94-2.06 2.06-.94-2.06-.94L8.5 2.5l-.94 2.06-2.06.94zm10 10l.94 2.06.94-2.06 2.06-.94-2.06-.94-.94-2.06-.94 2.06-2.06.94z\"/><path d=\"M17.41 7.96l-1.37-1.37c-.4-.4-.92-.59-1.43-.59-.52 0-1.04.2-1.43.59L10.3 9.45l-7.72 7.72c-.78.78-.78 2.05 0 2.83L4 21.41c.39.39.9.59 1.41.59.51 0 1.02-.2 1.41-.59l7.78-7.78 2.81-2.81c.8-.78.8-2.07 0-2.86zM5.41 20L4 18.59l7.72-7.72 1.47 1.35L5.41 20z\"/>\n",
              "  </svg>\n",
              "      </button>\n",
              "      \n",
              "  <style>\n",
              "    .colab-df-container {\n",
              "      display:flex;\n",
              "      flex-wrap:wrap;\n",
              "      gap: 12px;\n",
              "    }\n",
              "\n",
              "    .colab-df-convert {\n",
              "      background-color: #E8F0FE;\n",
              "      border: none;\n",
              "      border-radius: 50%;\n",
              "      cursor: pointer;\n",
              "      display: none;\n",
              "      fill: #1967D2;\n",
              "      height: 32px;\n",
              "      padding: 0 0 0 0;\n",
              "      width: 32px;\n",
              "    }\n",
              "\n",
              "    .colab-df-convert:hover {\n",
              "      background-color: #E2EBFA;\n",
              "      box-shadow: 0px 1px 2px rgba(60, 64, 67, 0.3), 0px 1px 3px 1px rgba(60, 64, 67, 0.15);\n",
              "      fill: #174EA6;\n",
              "    }\n",
              "\n",
              "    [theme=dark] .colab-df-convert {\n",
              "      background-color: #3B4455;\n",
              "      fill: #D2E3FC;\n",
              "    }\n",
              "\n",
              "    [theme=dark] .colab-df-convert:hover {\n",
              "      background-color: #434B5C;\n",
              "      box-shadow: 0px 1px 3px 1px rgba(0, 0, 0, 0.15);\n",
              "      filter: drop-shadow(0px 1px 2px rgba(0, 0, 0, 0.3));\n",
              "      fill: #FFFFFF;\n",
              "    }\n",
              "  </style>\n",
              "\n",
              "      <script>\n",
              "        const buttonEl =\n",
              "          document.querySelector('#df-70696ccf-8135-4111-89bb-342f97aa2ac1 button.colab-df-convert');\n",
              "        buttonEl.style.display =\n",
              "          google.colab.kernel.accessAllowed ? 'block' : 'none';\n",
              "\n",
              "        async function convertToInteractive(key) {\n",
              "          const element = document.querySelector('#df-70696ccf-8135-4111-89bb-342f97aa2ac1');\n",
              "          const dataTable =\n",
              "            await google.colab.kernel.invokeFunction('convertToInteractive',\n",
              "                                                     [key], {});\n",
              "          if (!dataTable) return;\n",
              "\n",
              "          const docLinkHtml = 'Like what you see? Visit the ' +\n",
              "            '<a target=\"_blank\" href=https://colab.research.google.com/notebooks/data_table.ipynb>data table notebook</a>'\n",
              "            + ' to learn more about interactive tables.';\n",
              "          element.innerHTML = '';\n",
              "          dataTable['output_type'] = 'display_data';\n",
              "          await google.colab.output.renderOutput(dataTable, element);\n",
              "          const docLink = document.createElement('div');\n",
              "          docLink.innerHTML = docLinkHtml;\n",
              "          element.appendChild(docLink);\n",
              "        }\n",
              "      </script>\n",
              "    </div>\n",
              "  </div>\n",
              "  "
            ]
          },
          "metadata": {},
          "execution_count": 3
        }
      ],
      "source": [
        "Ng_data.head(4)"
      ]
    },
    {
      "cell_type": "markdown",
      "id": "e0a5f07c",
      "metadata": {
        "id": "e0a5f07c"
      },
      "source": [
        "### Loading United State's Current Trending YouTubeVideos: \n",
        "###### Importing packages and reading data"
      ]
    },
    {
      "cell_type": "code",
      "execution_count": 53,
      "id": "be847eab",
      "metadata": {
        "id": "be847eab"
      },
      "outputs": [],
      "source": [
        "# importing the us data \n",
        "US_data = pd.read_csv('us_Youtube_data.csv')"
      ]
    },
    {
      "cell_type": "code",
      "execution_count": null,
      "id": "2160a20d",
      "metadata": {
        "id": "2160a20d"
      },
      "outputs": [],
      "source": [
        "US_data.head()"
      ]
    },
    {
      "cell_type": "markdown",
      "id": "6b8c6d08",
      "metadata": {
        "id": "6b8c6d08"
      },
      "source": [
        "### Sorting Needed Columns For Nigeria's Current Trending YouTube Video Dataset:\n",
        "###### Here we are creating a dataframe that shows the trending Nigerian Dataset by Video Category Decription and View Counts in ascending order.\n",
        "\n",
        "###### So we have 7 trending Nigerian YouTube Video Categories and they are as follows:\n",
        "       Comedy, Entertainment, Film & Animation, Music, News & Politics, People & Blogs, and Sports.\n",
        "    \n",
        "###### The highest trending video under Comedy has 1,629,458 viewCounts\n",
        "###### The highest trending video under <font color=red>Entertainment</font> has 34,543,612 viewCounts\n",
        "###### The highest trending video under Film & Animation has 1,648,620 viewCounts\n",
        "###### The highest trending video under Music has 12,173,797 viewCounts \n",
        "###### The highest trending video under News & Politics has 274,827 viewCounts\n",
        "###### The highest trending video under People & Blogs has 574,391 viewCounts\n",
        "###### The highest trending video under Sports has 7,154,769 viewCounts\n",
        "\n",
        "###### Out of all the 7 trending Nigerian Youtube Video Categories, <font color=red>Entertainment</font> seems to have the most viewcount , therefore making it the highest trending youtube video category currently in Nigeria!\n"
      ]
    },
    {
      "cell_type": "markdown",
      "id": "e218f9f0",
      "metadata": {
        "id": "e218f9f0"
      },
      "source": [
        "NigeriaYoutubeData = pd.read_csv('NG_youtube_data.csv')"
      ]
    },
    {
      "cell_type": "code",
      "execution_count": null,
      "id": "ee237752",
      "metadata": {
        "id": "ee237752"
      },
      "outputs": [],
      "source": [
        "# Sorting Values for the Nigeria Youtube data \n",
        "Ng_data.sort_values(by=['VideoCategoryDescription','viewCount','likeCount', 'title', 'Description'], ascending=(False,False,False,False,False)).head(7)"
      ]
    },
    {
      "cell_type": "markdown",
      "id": "ec7166f2",
      "metadata": {
        "id": "ec7166f2"
      },
      "source": [
        "# Sorting Needed Columns for United State's Current Trending Youtube Video Dataset:\n",
        "###### Here we are creating a dataframe that shows the trending United State Dataset by Video Category Label and View Count in ascending order.\n",
        "\n",
        "###### So we have 13 trending United State YouTube Video Categories and they are as follows:\n",
        "       Comedy, Entertainment, Film & Animation, Music, News & Politics, People & Blogs, Sports, Education, Science & Technology, Howto & Style, Nonprofits & Activism, Gaming, and Travel & Events.\n",
        "    \n",
        "###### The highest trending video under Comedy has 515 viewCounts\n",
        "###### The highest trending video under <font color=red>Entertainment</font> has 148,681 viewCounts\n",
        "###### The highest trending video under Film & Animation has 4,040 viewCounts\n",
        "###### The highest trending video under Music has 160 viewCounts \n",
        "###### The highest trending video under News & Politics has 108,974 viewCounts\n",
        "###### The highest trending video under People & Blogs has 18,908 viewCounts\n",
        "###### The highest trending video under Sports has 1,805 viewCounts\n",
        "###### The highest trending video under  Education has 35,928 viewCounts\n",
        "###### The highest trending video under Science & Technology has 30 viewCounts\n",
        "###### The highest trending video under  Howto & Style has 294 viewCounts\n",
        "###### The highest trending video under  Nonprofits & Activism has 1,512 viewCounts\n",
        "###### The highest trending video under Gaming has 1,851 viewCounts\n",
        "###### The highest trending video under Travel & Events has 843 viewCounts\n",
        "\n",
        "\n",
        "###### Out of all the 13 trending United State Youtube Video Categories, <font color=red>Entertainment</font> again seems to have the most viewcount , therefore making it the highest trending youtube video category currently in the United States!\n",
        "\n"
      ]
    },
    {
      "cell_type": "code",
      "execution_count": null,
      "id": "9d06e66d",
      "metadata": {
        "id": "9d06e66d"
      },
      "outputs": [],
      "source": [
        "# sorting the United states Youtube data\n",
        "US_data.sort_values(by=['videoCategoryLabel', 'videoTitle', 'videoDescription','viewCount', 'likeCount'], ascending=(True,False,False,False,False)).head(8)\n"
      ]
    },
    {
      "cell_type": "code",
      "execution_count": null,
      "id": "7e061cba-0c5e-4296-8d68-4bec52d688de",
      "metadata": {
        "id": "7e061cba-0c5e-4296-8d68-4bec52d688de"
      },
      "outputs": [],
      "source": [
        "# initial data info before cleaning the data\n",
        "Ng_data.info()"
      ]
    },
    {
      "cell_type": "code",
      "execution_count": null,
      "id": "bfff6bef-3590-4678-b413-884e281fc829",
      "metadata": {
        "id": "bfff6bef-3590-4678-b413-884e281fc829"
      },
      "outputs": [],
      "source": [
        "# initial data info before cleaning the data\n",
        "\n",
        "US_data.info()"
      ]
    },
    {
      "cell_type": "code",
      "execution_count": null,
      "id": "83924235-336f-461f-878d-896aeac2ff28",
      "metadata": {
        "id": "83924235-336f-461f-878d-896aeac2ff28"
      },
      "outputs": [],
      "source": [
        "# subsetting the US data into 50 rows using .iloc\n",
        "US_data = US_data.iloc[:50]\n",
        "US_data.info()"
      ]
    },
    {
      "cell_type": "code",
      "execution_count": null,
      "id": "9d99bed2-f5f8-4223-ac51-dc54674af1b9",
      "metadata": {
        "id": "9d99bed2-f5f8-4223-ac51-dc54674af1b9"
      },
      "outputs": [],
      "source": [
        "# checking for null values in the dataset..\n",
        "# the \"description\" column has 6 null values\n",
        "Ng_data.isna().sum()"
      ]
    },
    {
      "cell_type": "code",
      "execution_count": null,
      "id": "6c0ad3cd-4a8d-4a2c-a58d-34b781ebf0f1",
      "metadata": {
        "id": "6c0ad3cd-4a8d-4a2c-a58d-34b781ebf0f1"
      },
      "outputs": [],
      "source": [
        "# checking for null values in the US data, the dataset has no null values.\n",
        "US_data.isna().sum()"
      ]
    },
    {
      "cell_type": "code",
      "execution_count": null,
      "id": "924a413a-419d-460a-b145-9dea10c4eda2",
      "metadata": {
        "id": "924a413a-419d-460a-b145-9dea10c4eda2"
      },
      "outputs": [],
      "source": [
        "# verifying that the null values in the description column has been removed\n",
        "Ng_data = Ng_data.dropna()\n",
        "print(Ng_data.isna().sum())"
      ]
    },
    {
      "cell_type": "code",
      "execution_count": null,
      "id": "9da4152b-76e0-4d5e-9f98-d7c7f748af03",
      "metadata": {
        "id": "9da4152b-76e0-4d5e-9f98-d7c7f748af03"
      },
      "outputs": [],
      "source": [
        "# checking for null values after dropping the null values in the NG data\n",
        "Ng_data.info()"
      ]
    },
    {
      "cell_type": "code",
      "execution_count": null,
      "id": "108db5ab-e182-4b47-b350-05d7773d9dd5",
      "metadata": {
        "id": "108db5ab-e182-4b47-b350-05d7773d9dd5"
      },
      "outputs": [],
      "source": [
        "# # Subsetting columns to just the columns needed for the analysis of the NG data\n",
        "Ng_data =Ng_data[[\"videoId\", \"VideoCategoryDescription\", \"Description\", \"viewCount\" , \"likeCount\", \"commentCount\"]]\n",
        "\n",
        "Ng_data.head()"
      ]
    },
    {
      "cell_type": "code",
      "execution_count": null,
      "id": "9b4d5d5d-3a00-4de1-83d3-81ab38479c8d",
      "metadata": {
        "id": "9b4d5d5d-3a00-4de1-83d3-81ab38479c8d"
      },
      "outputs": [],
      "source": [
        "# Subsetting columns to just the columns needed for the analysis of the US data\n",
        "\n",
        "US_data =US_data[[\"videoId\", 'videoDescription', 'videoCategoryLabel', \"viewCount\" , \"likeCount\", \"commentCount\"]]\n",
        "\n",
        "US_data.head()"
      ]
    },
    {
      "cell_type": "code",
      "execution_count": null,
      "id": "0f2f0034-f651-49c6-add1-3269e7b1a2ad",
      "metadata": {
        "id": "0f2f0034-f651-49c6-add1-3269e7b1a2ad"
      },
      "outputs": [],
      "source": [
        "# describing the data\n",
        "\n",
        "Ng_data.describe()"
      ]
    },
    {
      "cell_type": "code",
      "execution_count": null,
      "id": "e8d87522-f4d3-44ee-8ade-0323e14e8ed4",
      "metadata": {
        "id": "e8d87522-f4d3-44ee-8ade-0323e14e8ed4"
      },
      "outputs": [],
      "source": [
        "# describing the data \n",
        "\n",
        "US_data.describe()"
      ]
    },
    {
      "cell_type": "code",
      "execution_count": null,
      "id": "36c9f87c-9793-41e6-84fd-5fc4af45c218",
      "metadata": {
        "id": "36c9f87c-9793-41e6-84fd-5fc4af45c218"
      },
      "outputs": [],
      "source": [
        "# checking the correlation between the numeric variables\n",
        "\n",
        "Ng_data.corr()"
      ]
    },
    {
      "cell_type": "code",
      "execution_count": null,
      "id": "37000b21-cd5a-4d3a-a53a-492a00131d11",
      "metadata": {
        "id": "37000b21-cd5a-4d3a-a53a-492a00131d11"
      },
      "outputs": [],
      "source": [
        "# checking the correlation between the numeric variables\n",
        "\n",
        "US_data.corr()"
      ]
    },
    {
      "cell_type": "code",
      "execution_count": null,
      "id": "478537a6-fccd-4023-8d22-aa61dacc4709",
      "metadata": {
        "id": "478537a6-fccd-4023-8d22-aa61dacc4709"
      },
      "outputs": [],
      "source": [
        "# plotting viewCount against likecount\n",
        "fig, ax=plt.subplots()\n",
        "ax.scatter(Ng_data['likeCount'], Ng_data['viewCount'])\n",
        "plt.xscale(\"log\")\n",
        "plt.yscale('log')\n",
        "plt.style.use('seaborn-v0_8-colorblind')\n",
        "plt.title(\"Visualizing the numeric variables\")\n",
        "plt.ylabel(\"viewCount\", color= \"Green\")\n",
        "plt.xlabel(\"likeCount\", color= \"g\")\n",
        "plt.show()"
      ]
    },
    {
      "cell_type": "code",
      "execution_count": null,
      "id": "d31962a0-2cb1-44d8-9716-257c6386d972",
      "metadata": {
        "id": "d31962a0-2cb1-44d8-9716-257c6386d972"
      },
      "outputs": [],
      "source": [
        "# plotting ViewCount against commentCount\n",
        "\n",
        "fig, ax=plt.subplots()\n",
        "plt.scatter(Ng_data['commentCount'], Ng_data['viewCount'])\n",
        "plt.xscale(\"log\")\n",
        "plt.yscale('log')\n",
        "plt.style.use('seaborn-v0_8-colorblind')\n",
        "plt.title(\"Visualizing the numeric Variables\")\n",
        "plt.ylabel(\"viewCount\", color= \"Green\")\n",
        "plt.xlabel(\"commentCount\", color= \"g\")\n",
        "plt.show()"
      ]
    },
    {
      "cell_type": "code",
      "source": [
        "# make a boxplot with pandas for Nigerian data\n",
        "import matplotlib.pyplot as plt\n",
        "Ng_data['viewCount'].plot(kind='box', vert=False, color='blue',\n",
        "                        figsize=(10,5))\n",
        "\n",
        "plt.xlabel('Number of views')\n",
        "plt.show()\n",
        "# Boxplots with seaborn\n",
        "sns.pairplot(data=Ng_data, hue=\"VideoCategoryDescription\")\n",
        "sns.catplot(x=\"VideoCategoryDescription\", y=\"viewCount\", kind=\"box\", data=Ng_data).set_xticklabels(rotation=90)\n",
        "sns.catplot(x=\"VideoCategoryDescription\", y=\"likeCount\", kind=\"box\", data=Ng_data).set_xticklabels(rotation=90)\n",
        "sns.catplot(x=\"VideoCategoryDescription\", y=\"commentCount\", kind=\"box\", data=Ng_data).set_xticklabels(rotation=90)\n",
        "sns.displot(Ng_data, x=\"viewCount\", hue=\"VideoCategoryDescription\")"
      ],
      "metadata": {
        "id": "CLRwZbaSD6s3"
      },
      "id": "CLRwZbaSD6s3",
      "execution_count": null,
      "outputs": []
    },
    {
      "cell_type": "code",
      "source": [
        "# US data visualization\n",
        "import matplotlib.pyplot as plt\n",
        "US_data['viewCount'].plot(kind='box', vert=False, color='blue',\n",
        "                        figsize=(10,5))\n",
        "\n",
        "plt.xlabel('Number of views')\n",
        "plt.show()\n",
        "# Boxplots with seaborn\n",
        "sns.pairplot(data=US_data, hue=\"videoCategoryLabel\")\n",
        "sns.catplot(x=\"videoCategoryLabel\", y=\"viewCount\", kind=\"box\", data=US_data).set_xticklabels(rotation=90)\n",
        "sns.catplot(x=\"videoCategoryLabel\", y=\"likeCount\", kind=\"box\", data=US_data).set_xticklabels(rotation=90)\n",
        "sns.catplot(x=\"videoCategoryLabel\", y=\"commentCount\", kind=\"box\", data=US_data).set_xticklabels(rotation=90)\n",
        "sns.displot(US_data, x=\"viewCount\", hue=\"videoCategoryLabel\")"
      ],
      "metadata": {
        "id": "2ZSS46O7Nry9"
      },
      "id": "2ZSS46O7Nry9",
      "execution_count": null,
      "outputs": []
    }
  ],
  "metadata": {
    "kernelspec": {
      "display_name": "python 3.9 (tensorflow)",
      "language": "python",
      "name": "tensorflow"
    },
    "language_info": {
      "codemirror_mode": {
        "name": "ipython",
        "version": 3
      },
      "file_extension": ".py",
      "mimetype": "text/x-python",
      "name": "python",
      "nbconvert_exporter": "python",
      "pygments_lexer": "ipython3",
      "version": "3.9.13"
    },
    "colab": {
      "provenance": [],
      "include_colab_link": true
    }
  },
  "nbformat": 4,
  "nbformat_minor": 5
}

### Now we visualize viewcount against likecount with the aid of seaborn

plt.figure(figsize=(16,8))
sns.scatterplot(x = 'viewCount', y = 'likeCount', data=Ng_data)

plt.figure(figsize=(16,8))
sns.scatterplot(x = 'viewCount', y = 'likeCount', data=US_data)

### We will also plot the histogram for the two dataset

plt.figure(figsize=(16,8))
sns.histplot(x ='viewCount', y = 'commentCount', data = Ng_data)

plt.figure(figsize=(16,8))
sns.histplot(x ='commentCount', y = 'viewCount', data = US_data)

### We will aslo have a feel of the barplot for the two dataset 

plt.figure(figsize=(20,10))
sns.barplot(x = 'publishedAt', y = 'viewCount', data = Ng_data)

plt.figure(figsize=(20,10))
sns.barplot(x = 'publishedAt', y = 'viewCount', data = US_data)

### And then also plot for comment count against like count

plt.figure(figsize=(20,10))
sns.histplot(x = 'commentCount', y = 'likeCount', data = Ng_data)

plt.figure(figsize=(20,10))
sns.histplot(x = 'commentCount', y = 'likeCount', data = US_data)
